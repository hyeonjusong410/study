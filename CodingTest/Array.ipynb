{
 "cells": [
  {
   "cell_type": "markdown",
   "id": "331b3052",
   "metadata": {},
   "source": [
    "## 1. Two sum"
   ]
  },
  {
   "cell_type": "code",
   "execution_count": 11,
   "id": "6631743c",
   "metadata": {},
   "outputs": [
    {
     "name": "stdout",
     "output_type": "stream",
     "text": [
      "[1, 2]\n"
     ]
    }
   ],
   "source": [
    "import re\n",
    "import collections\n",
    "from typing import List\n",
    "\n",
    "def twosum(nums : List[int], target: int):\n",
    "    nums_map = {}\n",
    "\n",
    "    # 하나의 for문으로 통합\n",
    "    for i, num in enumerate(nums):\n",
    "        if target - num in nums_map:\n",
    "            return [nums_map[target - num], i]\n",
    "        \n",
    "        nums_map[num] = i\n",
    "\n",
    "nums = [2, 3, 4, 5]\n",
    "target = 7\n",
    "print(twosum(nums, target))"
   ]
  },
  {
   "cell_type": "markdown",
   "id": "bba5b923",
   "metadata": {},
   "source": [
    "## 2. 3 sum = 0"
   ]
  },
  {
   "cell_type": "code",
   "execution_count": 15,
   "id": "2b091586",
   "metadata": {},
   "outputs": [
    {
     "name": "stdout",
     "output_type": "stream",
     "text": [
      "[[-1, 0, 1]]\n"
     ]
    }
   ],
   "source": [
    "def threesum(nums: List[int]):\n",
    "    results = []\n",
    "    nums.sort()\n",
    "\n",
    "    # 브루트 포스 n^3반복\n",
    "    for i in range(len(nums) - 2):\n",
    "        # 중복값 건너뛰기\n",
    "        if i > 0 and nums[i] == nums[i - 1]:\n",
    "            continue\n",
    "        for j in range(i + 1, len(nums) - 1):\n",
    "            if j > i + 1 and nums[j] == nums[j - 1]:\n",
    "                continue\n",
    "            for k in range(j + 1, len(nums) - 1):\n",
    "                if k > j + 1 and nums[k] == nums[k - 1]:\n",
    "                    continue\n",
    "                if nums[i] + nums[j] + nums[k] == 0:\n",
    "                    results.append([nums[i], nums[j], nums[k]])\n",
    "    return results\n",
    "\n",
    "nums = [-1, 0, 1, 2, -1, -4]\n",
    "print(threesum(nums))"
   ]
  },
  {
   "cell_type": "markdown",
   "id": "61f7fdc9",
   "metadata": {},
   "source": [
    "## 3. Array Partition1"
   ]
  },
  {
   "cell_type": "code",
   "execution_count": 18,
   "id": "35071e51",
   "metadata": {},
   "outputs": [
    {
     "name": "stdout",
     "output_type": "stream",
     "text": [
      "4\n"
     ]
    }
   ],
   "source": [
    "def arraypairsum(nums: List[int]):\n",
    "    return sum(sorted(nums)[::2])\n",
    "\n",
    "nums = [1, 2, 3, 4]\n",
    "print(arraypairsum(nums))"
   ]
  },
  {
   "cell_type": "markdown",
   "id": "b68b3ac1",
   "metadata": {},
   "source": [
    "## 4. Production of Array Exept self"
   ]
  },
  {
   "cell_type": "code",
   "execution_count": 20,
   "id": "43e222b3",
   "metadata": {},
   "outputs": [
    {
     "name": "stdout",
     "output_type": "stream",
     "text": [
      "[24, 12, 8, 6]\n"
     ]
    }
   ],
   "source": [
    "def productexceptself(nums: List[int]):\n",
    "    out = []\n",
    "    p = 1\n",
    "    \n",
    "    # 왼쪽 곱\n",
    "    for i in range(0, len(nums)):\n",
    "        out.append(p)\n",
    "        p = p * nums[i]\n",
    "    p = 1\n",
    "\n",
    "    # 왼쪽 곱셈 결과에 오른 쪽 값을 차례대로 곱\n",
    "    for i in range(len(nums) - 1, 0 - 1, -1):\n",
    "        out[i] = out[i] * p\n",
    "        p = p * nums[i]\n",
    "    return out\n",
    "\n",
    "nums = [1,2,3,4]\n",
    "print(productexceptself(nums))"
   ]
  },
  {
   "cell_type": "markdown",
   "id": "4e8684f5",
   "metadata": {},
   "source": [
    "## 5. Best Time to buy and Sell Stock"
   ]
  },
  {
   "cell_type": "code",
   "execution_count": null,
   "id": "c81b5536",
   "metadata": {},
   "outputs": [
    {
     "name": "stdout",
     "output_type": "stream",
     "text": [
      "5\n"
     ]
    }
   ],
   "source": [
    "import sys\n",
    "from typing import List\n",
    "\n",
    "def maxprofit(prices: List[int]):\n",
    "    profit = 0 \n",
    "    min_price = sys.maxsize\n",
    "\n",
    "    # max, min값 계속 갱신\n",
    "    for price in prices:\n",
    "        min_price = min(min_price, price)\n",
    "        profit = max(profit, price - min_price)\n",
    "\n",
    "    return profit\n",
    "prices = [10, 5, 3,6,7,3,8]\n",
    "print(maxprofit(prices))"
   ]
  }
 ],
 "metadata": {
  "kernelspec": {
   "display_name": "generative",
   "language": "python",
   "name": "python3"
  },
  "language_info": {
   "codemirror_mode": {
    "name": "ipython",
    "version": 3
   },
   "file_extension": ".py",
   "mimetype": "text/x-python",
   "name": "python",
   "nbconvert_exporter": "python",
   "pygments_lexer": "ipython3",
   "version": "3.12.9"
  }
 },
 "nbformat": 4,
 "nbformat_minor": 5
}
