{
 "cells": [
  {
   "cell_type": "code",
   "execution_count": 1,
   "id": "009f9bd4",
   "metadata": {},
   "outputs": [],
   "source": [
    "import numpy as np"
   ]
  },
  {
   "cell_type": "markdown",
   "id": "704138da",
   "metadata": {},
   "source": [
    "## 1. Palindrome"
   ]
  },
  {
   "cell_type": "code",
   "execution_count": 8,
   "id": "8b930cfc",
   "metadata": {},
   "outputs": [
    {
     "name": "stdout",
     "output_type": "stream",
     "text": [
      "True\n"
     ]
    }
   ],
   "source": [
    "# 리스트로 변환\n",
    "def islist(s : str) -> bool:\n",
    "    strs = []\n",
    "    for char in s:\n",
    "        if char.isalnum(): # isalnum는 영문자, 숫자 판별 해당 문자만 추가\n",
    "            strs.append(char.lower()) # char.lower() 모두 소문자로 바꾼다\n",
    "\n",
    "    # 팰린드롬 여부 판별\n",
    "    while len(strs) > 1:\n",
    "        if strs.pop(0) != strs.pop():\n",
    "            return False\n",
    "    return True\n",
    "\n",
    "s = \"A man a plan a canal Panama\"\n",
    "print(islist(s))"
   ]
  },
  {
   "cell_type": "code",
   "execution_count": null,
   "id": "1b2b7fe1",
   "metadata": {},
   "outputs": [
    {
     "name": "stdout",
     "output_type": "stream",
     "text": [
      "True\n"
     ]
    }
   ],
   "source": [
    "# 슬라이싱\n",
    "def isslice(s : str) -> bool:\n",
    "    s = s.lower() # 소문자 변환\n",
    "    s = re.sub('[^a-z0-9]', '', s) # 정규표현식으로 알파벳, 숫자만 남김\n",
    "\n",
    "    return s == s[::-1] # 문자열을 뒤에서 거꾸로 읽는 문법\n",
    "s = \"A man a plan a canal Panama\"\n",
    "print(islist(s))"
   ]
  },
  {
   "cell_type": "markdown",
   "id": "9295564c",
   "metadata": {},
   "source": [
    "## 2. Reverse String"
   ]
  },
  {
   "cell_type": "code",
   "execution_count": 15,
   "id": "306f66c5",
   "metadata": {},
   "outputs": [
    {
     "name": "stdout",
     "output_type": "stream",
     "text": [
      "['t', 's', 'i', 'L']\n"
     ]
    }
   ],
   "source": [
    "from typing import List\n",
    "def reverse(s: List[str]) -> None:\n",
    "    s.reverse()\n",
    "\n",
    "s = [\"L\", \"i\", \"s\", \"t\"]\n",
    "\n",
    "reverse(s)\n",
    "print(s)"
   ]
  },
  {
   "cell_type": "markdown",
   "id": "ac31f7e8",
   "metadata": {},
   "source": [
    "## 3. Most Common Word"
   ]
  },
  {
   "cell_type": "code",
   "execution_count": 23,
   "id": "7b21be9d",
   "metadata": {},
   "outputs": [],
   "source": [
    "import re\n",
    "import collections\n",
    "from typing import List\n",
    "def most(paragraph : str, banned: List[str]):\n",
    "    words = [word for word in re.sub(r'[\\W]', ' ', paragraph)\n",
    "             if word not in banned]\n",
    "    \n",
    "    counts = collections.Counter(words)\n",
    "    return counts.most_common(1)[0][0]"
   ]
  },
  {
   "cell_type": "markdown",
   "id": "b773d022",
   "metadata": {},
   "source": [
    "## 4. Group Anagrams"
   ]
  },
  {
   "cell_type": "code",
   "execution_count": 27,
   "id": "17c02535",
   "metadata": {},
   "outputs": [
    {
     "name": "stdout",
     "output_type": "stream",
     "text": [
      "[['eat', 'tea', 'ate'], ['tan', 'nat'], ['bat']]\n"
     ]
    },
    {
     "data": {
      "text/plain": [
       "<function print(*args, sep=' ', end='\\n', file=None, flush=False)>"
      ]
     },
     "execution_count": 27,
     "metadata": {},
     "output_type": "execute_result"
    }
   ],
   "source": [
    "def GA(str: List[str]):\n",
    "    ana = collections.defaultdict(list)\n",
    "\n",
    "    for word in str:\n",
    "        ana[''.join(sorted(word))].append(word)\n",
    "    return list(ana.values())\n",
    "str = [\"eat\", \"tea\", \"tan\", \"ate\", \"nat\", \"bat\"]\n",
    "print(GA(str))\n",
    "print"
   ]
  },
  {
   "cell_type": "code",
   "execution_count": null,
   "id": "76663cb8",
   "metadata": {},
   "outputs": [],
   "source": []
  }
 ],
 "metadata": {
  "kernelspec": {
   "display_name": "generative",
   "language": "python",
   "name": "python3"
  },
  "language_info": {
   "codemirror_mode": {
    "name": "ipython",
    "version": 3
   },
   "file_extension": ".py",
   "mimetype": "text/x-python",
   "name": "python",
   "nbconvert_exporter": "python",
   "pygments_lexer": "ipython3",
   "version": "3.12.9"
  }
 },
 "nbformat": 4,
 "nbformat_minor": 5
}
